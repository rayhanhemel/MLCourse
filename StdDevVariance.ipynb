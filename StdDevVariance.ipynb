{
 "cells": [
  {
   "cell_type": "markdown",
   "metadata": {},
   "source": [
    "# Standard Deviation and Variance"
   ]
  },
  {
   "cell_type": "code",
   "execution_count": 22,
   "metadata": {
    "scrolled": false
   },
   "outputs": [
    {
     "data": {
      "image/png": "[encoded data removed]",
      "text/plain": [
       "<Figure size 432x288 with 1 Axes>"
      ]
     },
     "metadata": {},
     "output_type": "display_data"
    }
   ],
   "source": [
    "%matplotlib inline\n",
    "import numpy as np\n",
    "import matplotlib.pyplot as plt\n",
    "\n",
    "incomes = np.random.normal(100.0, 20.0, 10000)\n",
    "\n",
    "plt.hist(incomes, 50)\n",
    "plt.show()"
   ]
  },
  {
   "cell_type": "code",
   "execution_count": 23,
   "metadata": {},
   "outputs": [
    {
     "data": {
      "text/plain": [
       "19.922898818450477"
      ]
     },
     "execution_count": 23,
     "metadata": {},
     "output_type": "execute_result"
    }
   ],
   "source": [
    "incomes.std()"
   ]
  },
  {
   "cell_type": "code",
   "execution_count": 26,
   "metadata": {},
   "outputs": [
    {
     "data": {
      "text/plain": [
       "396.9218973302155"
      ]
     },
     "execution_count": 26,
     "metadata": {},
     "output_type": "execute_result"
    }
   ],
   "source": [
    "incomes.var()"
   ]
  },
  {
   "cell_type": "markdown",
   "metadata": {},
   "source": [
    "## Activity"
   ]
  },
  {
   "cell_type": "markdown",
   "metadata": {},
   "source": [
    "Experiment with different parameters on the normal function, and see what effect it has on the shape of the distribution. How does that new shape relate to the standard deviation and variance?"
   ]
  },
  {
   "cell_type": "code",
   "execution_count": 86,
   "metadata": {},
   "outputs": [
    {
     "name": "stdout",
     "output_type": "stream",
     "text": [
      "[-1.49323452 -2.25011134 -2.2915001  -1.26460992  2.8877996 ]\n"
     ]
    }
   ],
   "source": [
    "incomes2 = np.random.normal(2, 3, 5)\n",
    "print(incomes2)"
   ]
  },
  {
   "cell_type": "code",
   "execution_count": 87,
   "metadata": {},
   "outputs": [
    {
     "data": {
      "image/png": "[encoded data removed]",
      "text/plain": [
       "<Figure size 432x288 with 1 Axes>"
      ]
     },
     "metadata": {},
     "output_type": "display_data"
    }
   ],
   "source": [
    "plt.hist(incomes2,15)\n",
    "plt.show()"
   ]
  },
  {
   "cell_type": "code",
   "execution_count": 88,
   "metadata": {},
   "outputs": [
    {
     "data": {
      "text/plain": [
       "3.71796112505584"
      ]
     },
     "execution_count": 88,
     "metadata": {},
     "output_type": "execute_result"
    }
   ],
   "source": [
    "#Variance, σ^2\n",
    "incomes2.var()"
   ]
  },
  {
   "cell_type": "code",
   "execution_count": 89,
   "metadata": {},
   "outputs": [
    {
     "data": {
      "text/plain": [
       "1.9282015260485197"
      ]
     },
     "execution_count": 89,
     "metadata": {},
     "output_type": "execute_result"
    }
   ],
   "source": [
    "#Standard Deviation, σ\n",
    "incomes2.std()"
   ]
  },
  {
   "cell_type": "code",
   "execution_count": 90,
   "metadata": {},
   "outputs": [
    {
     "name": "stdout",
     "output_type": "stream",
     "text": [
      "Sum of all the elements of incomes2 array: -4.411656283206788\n",
      "Mean Value: -0.8823312566413575\n",
      "\n",
      "Mean Differences: [0.6109032665446696, 1.3677800838568042, 1.4091688422486481, 0.38227866246228115, -3.770130855112403]\n",
      "\n",
      "Squared Differences: [0.3732028010749477, 1.8708223577953262, 1.9857568259643954, 0.14613697577395068, 14.21388666467058]\n",
      "\n",
      "\n",
      "Variance, σ^2: 3.71796112505584\n",
      "\n",
      "Standard Deviation, σ: 1.9282015260485197\n",
      "\n"
     ]
    }
   ],
   "source": [
    "# Menual Calculations of Variance σ^2 and Standard Deviation σ\n",
    "\n",
    "#Step 1: Find the mean, Equation: Sum of Array's indexes / Array Length\n",
    "sum = 0; \n",
    "for i in range(0, len(incomes2)):    \n",
    "   sum = sum + incomes2[i];  \n",
    "print(\"Sum of all the elements of incomes2 array: \" + str(sum));\n",
    "mean = sum / len(incomes2);\n",
    "print(\"Mean Value: \" + str(mean));\n",
    "print()\n",
    "\n",
    "#Step 2: Find the differences from the mean, Equation: mean - incomes2[i]\n",
    "meanDifferences = [0] * len(incomes2)\n",
    "for i in range(0, len(incomes2)):  \n",
    "    meanDifferences[i] = mean - incomes2[i]\n",
    "print(\"Mean Differences: \" + str(meanDifferences));\n",
    "print()\n",
    "\n",
    "#Step 3: Find the Squared Differences, Equation: meanDifferences[i]^2\n",
    "squaredDifferences = [0] * len(incomes2)\n",
    "for i in range(0, len(meanDifferences)): \n",
    "    squaredDifferences[i] = meanDifferences[i]**2\n",
    "print(\"Squared Differences: \" + str(squaredDifferences));\n",
    "print()\n",
    "\n",
    "#Step 4: Find the Average of Squared Differences or Variance σ^2, \n",
    "#Equation: Sum of Squared Differences Array's indexes / Array Length\n",
    "print()\n",
    "sumOfSquaredDifferences = 0\n",
    "for i in range(0, len(squaredDifferences)): \n",
    "    sumOfSquaredDifferences = sumOfSquaredDifferences + squaredDifferences[i]\n",
    "variance = sumOfSquaredDifferences / len(squaredDifferences)\n",
    "print(\"Variance, σ^2: \" + str(variance));\n",
    "print()\n",
    "\n",
    "#Step 5: Find the Standard Deviation σ, Equation: σ = √variance\n",
    "import math\n",
    "standardDeviation = math.sqrt(variance)\n",
    "print(\"Standard Deviation, σ: \" + str(standardDeviation));\n",
    "print()"
   ]
  },
  {
   "cell_type": "code",
   "execution_count": null,
   "metadata": {},
   "outputs": [],
   "source": []
  },
  {
   "cell_type": "code",
   "execution_count": null,
   "metadata": {},
   "outputs": [],
   "source": []
  }
 ],
 "metadata": {
  "kernelspec": {
   "display_name": "Python 3",
   "language": "python",
   "name": "python3"
  },
  "language_info": {
   "codemirror_mode": {
    "name": "ipython",
    "version": 3
   },
   "file_extension": ".py",
   "mimetype": "text/x-python",
   "name": "python",
   "nbconvert_exporter": "python",
   "pygments_lexer": "ipython3",
   "version": "3.6.6"
  }
 },
 "nbformat": 4,
 "nbformat_minor": 1
}
